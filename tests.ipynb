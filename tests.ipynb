{
 "cells": [
  {
   "cell_type": "code",
   "execution_count": 1,
   "metadata": {},
   "outputs": [],
   "source": [
    "import polars as pl"
   ]
  },
  {
   "cell_type": "code",
   "execution_count": 4,
   "metadata": {},
   "outputs": [
    {
     "data": {
      "text/html": [
       "<div><style>\n",
       ".dataframe > thead > tr,\n",
       ".dataframe > tbody > tr {\n",
       "  text-align: right;\n",
       "  white-space: pre-wrap;\n",
       "}\n",
       "</style>\n",
       "<small>shape: (6, 4)</small><table border=\"1\" class=\"dataframe\"><thead><tr><th>name</th><th>source</th><th>license</th><th>origin</th></tr><tr><td>str</td><td>str</td><td>str</td><td>str</td></tr></thead><tbody><tr><td>&quot;iris&quot;</td><td>&quot;https://www.kaggle.com/dataset…</td><td>&quot;CC0: Public Domain&quot;</td><td>&quot;Kaggle&quot;</td></tr><tr><td>&quot;mpg&quot;</td><td>&quot;https://www.kaggle.com/dataset…</td><td>&quot;CC0: Public Domain&quot;</td><td>&quot;Kaggle&quot;</td></tr><tr><td>&quot;titanic&quot;</td><td>&quot;https://www.kaggle.com/competi…</td><td>&quot;NOT SPECIFIED&quot;</td><td>&quot;Kaggle&quot;</td></tr><tr><td>&quot;starbucks&quot;</td><td>&quot;https://www.kaggle.com/dataset…</td><td>&quot;CC0: Public Domain&quot;</td><td>&quot;Kaggle&quot;</td></tr><tr><td>&quot;netflix&quot;</td><td>&quot;https://www.kaggle.com/dataset…</td><td>&quot;CC0: Public Domain&quot;</td><td>&quot;Kaggle&quot;</td></tr><tr><td>&quot;pokemon&quot;</td><td>&quot;https://www.kaggle.com/dataset…</td><td>&quot;CC0: Public Domain&quot;</td><td>&quot;Kaggle&quot;</td></tr></tbody></table></div>"
      ],
      "text/plain": [
       "shape: (6, 4)\n",
       "┌───────────┬─────────────────────────────────┬────────────────────┬────────┐\n",
       "│ name      ┆ source                          ┆ license            ┆ origin │\n",
       "│ ---       ┆ ---                             ┆ ---                ┆ ---    │\n",
       "│ str       ┆ str                             ┆ str                ┆ str    │\n",
       "╞═══════════╪═════════════════════════════════╪════════════════════╪════════╡\n",
       "│ iris      ┆ https://www.kaggle.com/dataset… ┆ CC0: Public Domain ┆ Kaggle │\n",
       "│ mpg       ┆ https://www.kaggle.com/dataset… ┆ CC0: Public Domain ┆ Kaggle │\n",
       "│ titanic   ┆ https://www.kaggle.com/competi… ┆ NOT SPECIFIED      ┆ Kaggle │\n",
       "│ starbucks ┆ https://www.kaggle.com/dataset… ┆ CC0: Public Domain ┆ Kaggle │\n",
       "│ netflix   ┆ https://www.kaggle.com/dataset… ┆ CC0: Public Domain ┆ Kaggle │\n",
       "│ pokemon   ┆ https://www.kaggle.com/dataset… ┆ CC0: Public Domain ┆ Kaggle │\n",
       "└───────────┴─────────────────────────────────┴────────────────────┴────────┘"
      ]
     },
     "execution_count": 4,
     "metadata": {},
     "output_type": "execute_result"
    }
   ],
   "source": [
    "pl.read_csv(\"datasets_info.csv\")"
   ]
  }
 ],
 "metadata": {
  "kernelspec": {
   "display_name": "Python 3",
   "language": "python",
   "name": "python3"
  },
  "language_info": {
   "codemirror_mode": {
    "name": "ipython",
    "version": 3
   },
   "file_extension": ".py",
   "mimetype": "text/x-python",
   "name": "python",
   "nbconvert_exporter": "python",
   "pygments_lexer": "ipython3",
   "version": "3.11.9"
  }
 },
 "nbformat": 4,
 "nbformat_minor": 2
}
