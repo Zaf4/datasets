{
 "cells": [
  {
   "cell_type": "markdown",
   "metadata": {},
   "source": [
    "# Dataset Preprocessing for file size reduction and inferring schema"
   ]
  },
  {
   "cell_type": "code",
   "execution_count": 30,
   "metadata": {},
   "outputs": [],
   "source": [
    "import polars as pl\n",
    "import os"
   ]
  },
  {
   "cell_type": "markdown",
   "metadata": {},
   "source": [
    "## Create datasets dict"
   ]
  },
  {
   "cell_type": "code",
   "execution_count": 31,
   "metadata": {},
   "outputs": [],
   "source": [
    "datasets_dict = {\n",
    "    'name' : ['iris', 'mpg', 'titanic', 'starbucks', 'netflix'],\n",
    "    'source' : [\n",
    "            'https://www.kaggle.com/datasets/himanshunakrani/iris-dataset',\n",
    "            'https://www.kaggle.com/datasets/uciml/autompg-dataset',\n",
    "            'https://www.kaggle.com/competitions/titanic',\n",
    "            'https://www.kaggle.com/datasets/harshalhonde/starbucks-reviews-dataset',\n",
    "            'https://www.kaggle.com/datasets/shivamb/netflix-shows'\n",
    "            ],\n",
    "    'license' : ['CC0: Public Domain', 'CC0: Public Domain', None, 'CC0: Public Domain', 'CC0: Public Domain'],\n",
    "    'origin' : ['Kaggle', 'Kaggle', 'Kaggle', 'Kaggle', 'Kaggle']\n",
    "\n",
    "}"
   ]
  },
  {
   "cell_type": "code",
   "execution_count": 32,
   "metadata": {},
   "outputs": [
    {
     "data": {
      "text/html": [
       "<div><style>\n",
       ".dataframe > thead > tr,\n",
       ".dataframe > tbody > tr {\n",
       "  text-align: right;\n",
       "  white-space: pre-wrap;\n",
       "}\n",
       "</style>\n",
       "<small>shape: (5, 4)</small><table border=\"1\" class=\"dataframe\"><thead><tr><th>name</th><th>source</th><th>license</th><th>origin</th></tr><tr><td>str</td><td>str</td><td>str</td><td>str</td></tr></thead><tbody><tr><td>&quot;iris&quot;</td><td>&quot;https://www.kaggle.com/dataset…</td><td>&quot;CC0: Public Domain&quot;</td><td>&quot;Kaggle&quot;</td></tr><tr><td>&quot;mpg&quot;</td><td>&quot;https://www.kaggle.com/dataset…</td><td>&quot;CC0: Public Domain&quot;</td><td>&quot;Kaggle&quot;</td></tr><tr><td>&quot;titanic&quot;</td><td>&quot;https://www.kaggle.com/competi…</td><td>null</td><td>&quot;Kaggle&quot;</td></tr><tr><td>&quot;starbucks&quot;</td><td>&quot;https://www.kaggle.com/dataset…</td><td>&quot;CC0: Public Domain&quot;</td><td>&quot;Kaggle&quot;</td></tr><tr><td>&quot;netflix&quot;</td><td>&quot;https://www.kaggle.com/dataset…</td><td>&quot;CC0: Public Domain&quot;</td><td>&quot;Kaggle&quot;</td></tr></tbody></table></div>"
      ],
      "text/plain": [
       "shape: (5, 4)\n",
       "┌───────────┬─────────────────────────────────┬────────────────────┬────────┐\n",
       "│ name      ┆ source                          ┆ license            ┆ origin │\n",
       "│ ---       ┆ ---                             ┆ ---                ┆ ---    │\n",
       "│ str       ┆ str                             ┆ str                ┆ str    │\n",
       "╞═══════════╪═════════════════════════════════╪════════════════════╪════════╡\n",
       "│ iris      ┆ https://www.kaggle.com/dataset… ┆ CC0: Public Domain ┆ Kaggle │\n",
       "│ mpg       ┆ https://www.kaggle.com/dataset… ┆ CC0: Public Domain ┆ Kaggle │\n",
       "│ titanic   ┆ https://www.kaggle.com/competi… ┆ null               ┆ Kaggle │\n",
       "│ starbucks ┆ https://www.kaggle.com/dataset… ┆ CC0: Public Domain ┆ Kaggle │\n",
       "│ netflix   ┆ https://www.kaggle.com/dataset… ┆ CC0: Public Domain ┆ Kaggle │\n",
       "└───────────┴─────────────────────────────────┴────────────────────┴────────┘"
      ]
     },
     "execution_count": 32,
     "metadata": {},
     "output_type": "execute_result"
    }
   ],
   "source": [
    "\n",
    "datasets_df = pl.DataFrame(datasets_dict)\n",
    "datasets_df"
   ]
  },
  {
   "cell_type": "markdown",
   "metadata": {},
   "source": [
    "## Load and process datasets"
   ]
  },
  {
   "cell_type": "code",
   "execution_count": 33,
   "metadata": {},
   "outputs": [],
   "source": [
    "def load_dataset(name):\n",
    "    return pl.read_csv(f'csv/{name}.csv',infer_schema_length=10000)\n"
   ]
  },
  {
   "cell_type": "code",
   "execution_count": 34,
   "metadata": {},
   "outputs": [],
   "source": [
    "iris = load_dataset('iris')\n",
    "mpg = load_dataset('mpg')\n",
    "titanic = load_dataset('titanic')\n",
    "starbucks = load_dataset('starbucks')\n",
    "netflix = load_dataset('netflix')"
   ]
  },
  {
   "cell_type": "code",
   "execution_count": 35,
   "metadata": {},
   "outputs": [],
   "source": [
    "size_iris_csv = os.path.getsize('csv/iris.csv')\n",
    "size_mpg_csv = os.path.getsize('csv/mpg.csv')\n",
    "size_titanic_csv = os.path.getsize('csv/titanic.csv')\n",
    "size_starbucks_csv = os.path.getsize('csv/starbucks.csv')\n",
    "size_netflix_csv = os.path.getsize('csv/netflix.csv')"
   ]
  },
  {
   "cell_type": "code",
   "execution_count": 36,
   "metadata": {},
   "outputs": [],
   "source": [
    "iris_initial_size = iris.estimated_size()\n",
    "mpg_initial_size = mpg.estimated_size()\n",
    "titanic_initial_size = titanic.estimated_size()\n",
    "starbucks_initial_size = starbucks.estimated_size()\n",
    "netflix_initial_size = netflix.estimated_size()"
   ]
  },
  {
   "cell_type": "code",
   "execution_count": 37,
   "metadata": {},
   "outputs": [
    {
     "data": {
      "text/plain": [
       "{'name': ['iris', 'mpg', 'titanic', 'starbucks', 'netflix'],\n",
       " 'size_csv': [3858, 18131, 61194, 26898, 3399671],\n",
       " 'size_initial': [6050, 29651, 85862, 35697, 3265729],\n",
       " 'size_after_processing': ['iris', 'mpg', 'titanic', 'starbucks', 'netflix'],\n",
       " 'size_parquet_zstd': ['iris', 'mpg', 'titanic', 'starbucks', 'netflix'],\n",
       " 'size_feather_zstd': ['iris', 'mpg', 'titanic', 'starbucks', 'netflix']}"
      ]
     },
     "execution_count": 37,
     "metadata": {},
     "output_type": "execute_result"
    }
   ],
   "source": [
    "size_dict = {\n",
    "    'name' : ['iris', 'mpg', 'titanic', 'starbucks', 'netflix'],\n",
    "    'size_csv' : [size_iris_csv, size_mpg_csv, size_titanic_csv, size_starbucks_csv, size_netflix_csv],\n",
    "    'size_initial' : [iris_initial_size, mpg_initial_size, titanic_initial_size, starbucks_initial_size, netflix_initial_size],\n",
    "    'size_after_processing' : ['iris', 'mpg', 'titanic', 'starbucks', 'netflix'], # to be overwritten\n",
    "    'size_parquet_zstd' : ['iris', 'mpg', 'titanic', 'starbucks', 'netflix'], # to be overwritten\n",
    "    'size_feather_zstd' : ['iris', 'mpg', 'titanic', 'starbucks', 'netflix'], # to be overwritten\n",
    "}\n",
    "size_dict"
   ]
  },
  {
   "cell_type": "code",
   "execution_count": 38,
   "metadata": {},
   "outputs": [],
   "source": [
    "def save_dataframe(df:pl.DataFrame, name:str)->None:\n",
    "    # get index of datasets\n",
    "    index = size_dict['name'].index(name)\n",
    "    \n",
    "    #write dataframes\n",
    "    df.write_parquet(f'parquet/{name}.parquet', compression='zstd')\n",
    "    df.write_ipc(f'feather/{name}.feather', compression='zstd')\n",
    "    #get sizes for dataframe and binary files\n",
    "    size_after_processing = df.estimated_size()\n",
    "    size_parquet_zstd = os.path.getsize(f'parquet/{name}.parquet')\n",
    "    size_feather_zstd = os.path.getsize(f'feather/{name}.feather')\n",
    "    # get size of csv\n",
    "    size_csv = os.path.getsize(f'csv/{name}.csv')\n",
    "    # update size_dict    \n",
    "    size_dict['size_after_processing'][index] = size_after_processing\n",
    "    size_dict['size_parquet_zstd'][index] = size_parquet_zstd\n",
    "    size_dict['size_feather_zstd'][index] = size_feather_zstd\n",
    "    #compare compression percentages\n",
    "    print(f'For {name} dataset maximum compression is achieved by:')\n",
    "    if size_parquet_zstd > size_feather_zstd:\n",
    "        print(f'\\tFeather')\n",
    "    else:\n",
    "        print(f'\\tParquet')\n",
    "    \n",
    "    #print percentage to inital size\n",
    "    print(f'Processed:{size_after_processing/size_csv*100:.2f}%\\n',\n",
    "          f'Parquet:{size_parquet_zstd/size_csv*100:.2f}%\\n',\n",
    "          f'Feather:{size_feather_zstd/size_csv*100:.2f}%\\n',\n",
    "          sep='')\n",
    "    \n",
    "    return None\n",
    "\n"
   ]
  },
  {
   "cell_type": "markdown",
   "metadata": {},
   "source": [
    "### iris"
   ]
  },
  {
   "cell_type": "code",
   "execution_count": 39,
   "metadata": {},
   "outputs": [
    {
     "data": {
      "text/html": [
       "<div><style>\n",
       ".dataframe > thead > tr,\n",
       ".dataframe > tbody > tr {\n",
       "  text-align: right;\n",
       "  white-space: pre-wrap;\n",
       "}\n",
       "</style>\n",
       "<small>shape: (5, 5)</small><table border=\"1\" class=\"dataframe\"><thead><tr><th>sepal_length</th><th>sepal_width</th><th>petal_length</th><th>petal_width</th><th>species</th></tr><tr><td>f64</td><td>f64</td><td>f64</td><td>f64</td><td>str</td></tr></thead><tbody><tr><td>5.1</td><td>3.5</td><td>1.4</td><td>0.2</td><td>&quot;setosa&quot;</td></tr><tr><td>4.9</td><td>3.0</td><td>1.4</td><td>0.2</td><td>&quot;setosa&quot;</td></tr><tr><td>4.7</td><td>3.2</td><td>1.3</td><td>0.2</td><td>&quot;setosa&quot;</td></tr><tr><td>4.6</td><td>3.1</td><td>1.5</td><td>0.2</td><td>&quot;setosa&quot;</td></tr><tr><td>5.0</td><td>3.6</td><td>1.4</td><td>0.2</td><td>&quot;setosa&quot;</td></tr></tbody></table></div>"
      ],
      "text/plain": [
       "shape: (5, 5)\n",
       "┌──────────────┬─────────────┬──────────────┬─────────────┬─────────┐\n",
       "│ sepal_length ┆ sepal_width ┆ petal_length ┆ petal_width ┆ species │\n",
       "│ ---          ┆ ---         ┆ ---          ┆ ---         ┆ ---     │\n",
       "│ f64          ┆ f64         ┆ f64          ┆ f64         ┆ str     │\n",
       "╞══════════════╪═════════════╪══════════════╪═════════════╪═════════╡\n",
       "│ 5.1          ┆ 3.5         ┆ 1.4          ┆ 0.2         ┆ setosa  │\n",
       "│ 4.9          ┆ 3.0         ┆ 1.4          ┆ 0.2         ┆ setosa  │\n",
       "│ 4.7          ┆ 3.2         ┆ 1.3          ┆ 0.2         ┆ setosa  │\n",
       "│ 4.6          ┆ 3.1         ┆ 1.5          ┆ 0.2         ┆ setosa  │\n",
       "│ 5.0          ┆ 3.6         ┆ 1.4          ┆ 0.2         ┆ setosa  │\n",
       "└──────────────┴─────────────┴──────────────┴─────────────┴─────────┘"
      ]
     },
     "execution_count": 39,
     "metadata": {},
     "output_type": "execute_result"
    }
   ],
   "source": [
    "iris.head()"
   ]
  },
  {
   "cell_type": "code",
   "execution_count": 40,
   "metadata": {},
   "outputs": [],
   "source": [
    "iris = iris.with_columns(pl.col(['sepal_length','sepal_width','petal_length','petal_width']).cast(pl.Float32))"
   ]
  },
  {
   "cell_type": "code",
   "execution_count": 41,
   "metadata": {},
   "outputs": [
    {
     "name": "stdout",
     "output_type": "stream",
     "text": [
      "For iris dataset maximum compression is achieved by:\n",
      "\tFeather\n",
      "Processed:94.61%\n",
      "Parquet:73.20%\n",
      "Feather:65.91%\n",
      "\n"
     ]
    }
   ],
   "source": [
    "save_dataframe(iris, 'iris')"
   ]
  },
  {
   "cell_type": "markdown",
   "metadata": {},
   "source": [
    "### starbucks"
   ]
  },
  {
   "cell_type": "code",
   "execution_count": 42,
   "metadata": {},
   "outputs": [
    {
     "data": {
      "text/html": [
       "<div><style>\n",
       ".dataframe > thead > tr,\n",
       ".dataframe > tbody > tr {\n",
       "  text-align: right;\n",
       "  white-space: pre-wrap;\n",
       "}\n",
       "</style>\n",
       "<small>shape: (5, 18)</small><table border=\"1\" class=\"dataframe\"><thead><tr><th>Beverage_category</th><th>Beverage</th><th>Beverage_prep</th><th>Calories</th><th> Total Fat (g)</th><th>Trans Fat (g) </th><th>Saturated Fat (g)</th><th> Sodium (mg)</th><th> Total Carbohydrates (g) </th><th>Cholesterol (mg)</th><th> Dietary Fibre (g)</th><th> Sugars (g)</th><th> Protein (g) </th><th>Vitamin A (% DV) </th><th>Vitamin C (% DV)</th><th> Calcium (% DV) </th><th>Iron (% DV) </th><th>Caffeine (mg)</th></tr><tr><td>str</td><td>str</td><td>str</td><td>i64</td><td>str</td><td>f64</td><td>f64</td><td>i64</td><td>i64</td><td>i64</td><td>i64</td><td>i64</td><td>f64</td><td>str</td><td>str</td><td>str</td><td>str</td><td>str</td></tr></thead><tbody><tr><td>&quot;Coffee&quot;</td><td>&quot;Brewed Coffee&quot;</td><td>&quot;Short&quot;</td><td>3</td><td>&quot;0.1&quot;</td><td>0.0</td><td>0.0</td><td>0</td><td>5</td><td>0</td><td>0</td><td>0</td><td>0.3</td><td>&quot;0%&quot;</td><td>&quot;0%&quot;</td><td>&quot;0%&quot;</td><td>&quot;0%&quot;</td><td>&quot;175&quot;</td></tr><tr><td>&quot;Coffee&quot;</td><td>&quot;Brewed Coffee&quot;</td><td>&quot;Tall&quot;</td><td>4</td><td>&quot;0.1&quot;</td><td>0.0</td><td>0.0</td><td>0</td><td>10</td><td>0</td><td>0</td><td>0</td><td>0.5</td><td>&quot;0%&quot;</td><td>&quot;0%&quot;</td><td>&quot;0%&quot;</td><td>&quot;0%&quot;</td><td>&quot;260&quot;</td></tr><tr><td>&quot;Coffee&quot;</td><td>&quot;Brewed Coffee&quot;</td><td>&quot;Grande&quot;</td><td>5</td><td>&quot;0.1&quot;</td><td>0.0</td><td>0.0</td><td>0</td><td>10</td><td>0</td><td>0</td><td>0</td><td>1.0</td><td>&quot;0%&quot;</td><td>&quot;0%&quot;</td><td>&quot;0%&quot;</td><td>&quot;0%&quot;</td><td>&quot;330&quot;</td></tr><tr><td>&quot;Coffee&quot;</td><td>&quot;Brewed Coffee&quot;</td><td>&quot;Venti&quot;</td><td>5</td><td>&quot;0.1&quot;</td><td>0.0</td><td>0.0</td><td>0</td><td>10</td><td>0</td><td>0</td><td>0</td><td>1.0</td><td>&quot;0%&quot;</td><td>&quot;0%&quot;</td><td>&quot;2%&quot;</td><td>&quot;0%&quot;</td><td>&quot;410&quot;</td></tr><tr><td>&quot;Classic Espresso Drinks&quot;</td><td>&quot;Caffè Latte&quot;</td><td>&quot;Short Nonfat Milk&quot;</td><td>70</td><td>&quot;0.1&quot;</td><td>0.1</td><td>0.0</td><td>5</td><td>75</td><td>10</td><td>0</td><td>9</td><td>6.0</td><td>&quot;10%&quot;</td><td>&quot;0%&quot;</td><td>&quot;20%&quot;</td><td>&quot;0%&quot;</td><td>&quot;75&quot;</td></tr></tbody></table></div>"
      ],
      "text/plain": [
       "shape: (5, 18)\n",
       "┌───────────┬───────────┬───────────┬──────────┬───┬───────────┬───────────┬───────────┬───────────┐\n",
       "│ Beverage_ ┆ Beverage  ┆ Beverage_ ┆ Calories ┆ … ┆ Vitamin C ┆ Calcium   ┆ Iron (%   ┆ Caffeine  │\n",
       "│ category  ┆ ---       ┆ prep      ┆ ---      ┆   ┆ (% DV)    ┆ (% DV)    ┆ DV)       ┆ (mg)      │\n",
       "│ ---       ┆ str       ┆ ---       ┆ i64      ┆   ┆ ---       ┆ ---       ┆ ---       ┆ ---       │\n",
       "│ str       ┆           ┆ str       ┆          ┆   ┆ str       ┆ str       ┆ str       ┆ str       │\n",
       "╞═══════════╪═══════════╪═══════════╪══════════╪═══╪═══════════╪═══════════╪═══════════╪═══════════╡\n",
       "│ Coffee    ┆ Brewed    ┆ Short     ┆ 3        ┆ … ┆ 0%        ┆ 0%        ┆ 0%        ┆ 175       │\n",
       "│           ┆ Coffee    ┆           ┆          ┆   ┆           ┆           ┆           ┆           │\n",
       "│ Coffee    ┆ Brewed    ┆ Tall      ┆ 4        ┆ … ┆ 0%        ┆ 0%        ┆ 0%        ┆ 260       │\n",
       "│           ┆ Coffee    ┆           ┆          ┆   ┆           ┆           ┆           ┆           │\n",
       "│ Coffee    ┆ Brewed    ┆ Grande    ┆ 5        ┆ … ┆ 0%        ┆ 0%        ┆ 0%        ┆ 330       │\n",
       "│           ┆ Coffee    ┆           ┆          ┆   ┆           ┆           ┆           ┆           │\n",
       "│ Coffee    ┆ Brewed    ┆ Venti     ┆ 5        ┆ … ┆ 0%        ┆ 2%        ┆ 0%        ┆ 410       │\n",
       "│           ┆ Coffee    ┆           ┆          ┆   ┆           ┆           ┆           ┆           │\n",
       "│ Classic   ┆ Caffè     ┆ Short     ┆ 70       ┆ … ┆ 0%        ┆ 20%       ┆ 0%        ┆ 75        │\n",
       "│ Espresso  ┆ Latte     ┆ Nonfat    ┆          ┆   ┆           ┆           ┆           ┆           │\n",
       "│ Drinks    ┆           ┆ Milk      ┆          ┆   ┆           ┆           ┆           ┆           │\n",
       "└───────────┴───────────┴───────────┴──────────┴───┴───────────┴───────────┴───────────┴───────────┘"
      ]
     },
     "execution_count": 42,
     "metadata": {},
     "output_type": "execute_result"
    }
   ],
   "source": [
    "starbucks.head()"
   ]
  },
  {
   "cell_type": "markdown",
   "metadata": {},
   "source": [
    "TODO with starbukcs dataframe\n",
    "\n",
    "total fat to f32\n",
    "trans fat to f32\n",
    "saturated fat to f32\n",
    "protein to f32\n",
    "\n",
    "sugar to u16\n",
    "calories to u16\n",
    "dietary fibre to u16\n",
    "sodium to u16\n",
    "total carbohydrates to u16"
   ]
  },
  {
   "cell_type": "code",
   "execution_count": 43,
   "metadata": {},
   "outputs": [
    {
     "data": {
      "text/plain": [
       "['Beverage_category',\n",
       " 'Beverage',\n",
       " 'Beverage_prep',\n",
       " 'Calories',\n",
       " ' Total Fat (g)',\n",
       " 'Trans Fat (g) ',\n",
       " 'Saturated Fat (g)',\n",
       " ' Sodium (mg)',\n",
       " ' Total Carbohydrates (g) ',\n",
       " 'Cholesterol (mg)',\n",
       " ' Dietary Fibre (g)',\n",
       " ' Sugars (g)',\n",
       " ' Protein (g) ',\n",
       " 'Vitamin A (% DV) ',\n",
       " 'Vitamin C (% DV)',\n",
       " ' Calcium (% DV) ',\n",
       " 'Iron (% DV) ',\n",
       " 'Caffeine (mg)']"
      ]
     },
     "execution_count": 43,
     "metadata": {},
     "output_type": "execute_result"
    }
   ],
   "source": [
    "starbucks.columns"
   ]
  },
  {
   "cell_type": "code",
   "execution_count": 44,
   "metadata": {},
   "outputs": [],
   "source": [
    "starbucks = starbucks.with_columns(\n",
    "    pl.col(['Trans Fat (g) ','Saturated Fat (g)',' Protein (g) ']).cast(pl.Float32),\n",
    "    pl.col([' Sugars (g)','Calories',' Dietary Fibre (g)',' Sodium (mg)',' Total Carbohydrates (g) ']).cast(pl.UInt16)\n",
    ")"
   ]
  },
  {
   "cell_type": "code",
   "execution_count": 45,
   "metadata": {},
   "outputs": [
    {
     "name": "stdout",
     "output_type": "stream",
     "text": [
      "For starbucks dataset maximum compression is achieved by:\n",
      "\tFeather\n",
      "Processed:94.93%\n",
      "Parquet:42.17%\n",
      "Feather:41.27%\n",
      "\n"
     ]
    }
   ],
   "source": [
    "save_dataframe(starbucks, 'starbucks')"
   ]
  },
  {
   "cell_type": "markdown",
   "metadata": {},
   "source": [
    "### mpg"
   ]
  },
  {
   "cell_type": "code",
   "execution_count": 46,
   "metadata": {},
   "outputs": [
    {
     "data": {
      "text/html": [
       "<div><style>\n",
       ".dataframe > thead > tr,\n",
       ".dataframe > tbody > tr {\n",
       "  text-align: right;\n",
       "  white-space: pre-wrap;\n",
       "}\n",
       "</style>\n",
       "<small>shape: (5, 9)</small><table border=\"1\" class=\"dataframe\"><thead><tr><th>mpg</th><th>cylinders</th><th>displacement</th><th>horsepower</th><th>weight</th><th>acceleration</th><th>model year</th><th>origin</th><th>car name</th></tr><tr><td>f64</td><td>i64</td><td>f64</td><td>str</td><td>i64</td><td>f64</td><td>i64</td><td>i64</td><td>str</td></tr></thead><tbody><tr><td>18.0</td><td>8</td><td>307.0</td><td>&quot;130&quot;</td><td>3504</td><td>12.0</td><td>70</td><td>1</td><td>&quot;chevrolet chevelle malibu&quot;</td></tr><tr><td>15.0</td><td>8</td><td>350.0</td><td>&quot;165&quot;</td><td>3693</td><td>11.5</td><td>70</td><td>1</td><td>&quot;buick skylark 320&quot;</td></tr><tr><td>18.0</td><td>8</td><td>318.0</td><td>&quot;150&quot;</td><td>3436</td><td>11.0</td><td>70</td><td>1</td><td>&quot;plymouth satellite&quot;</td></tr><tr><td>16.0</td><td>8</td><td>304.0</td><td>&quot;150&quot;</td><td>3433</td><td>12.0</td><td>70</td><td>1</td><td>&quot;amc rebel sst&quot;</td></tr><tr><td>17.0</td><td>8</td><td>302.0</td><td>&quot;140&quot;</td><td>3449</td><td>10.5</td><td>70</td><td>1</td><td>&quot;ford torino&quot;</td></tr></tbody></table></div>"
      ],
      "text/plain": [
       "shape: (5, 9)\n",
       "┌──────┬───────────┬─────────────┬────────────┬───┬─────────────┬────────────┬────────┬────────────┐\n",
       "│ mpg  ┆ cylinders ┆ displacemen ┆ horsepower ┆ … ┆ acceleratio ┆ model year ┆ origin ┆ car name   │\n",
       "│ ---  ┆ ---       ┆ t           ┆ ---        ┆   ┆ n           ┆ ---        ┆ ---    ┆ ---        │\n",
       "│ f64  ┆ i64       ┆ ---         ┆ str        ┆   ┆ ---         ┆ i64        ┆ i64    ┆ str        │\n",
       "│      ┆           ┆ f64         ┆            ┆   ┆ f64         ┆            ┆        ┆            │\n",
       "╞══════╪═══════════╪═════════════╪════════════╪═══╪═════════════╪════════════╪════════╪════════════╡\n",
       "│ 18.0 ┆ 8         ┆ 307.0       ┆ 130        ┆ … ┆ 12.0        ┆ 70         ┆ 1      ┆ chevrolet  │\n",
       "│      ┆           ┆             ┆            ┆   ┆             ┆            ┆        ┆ chevelle   │\n",
       "│      ┆           ┆             ┆            ┆   ┆             ┆            ┆        ┆ malibu     │\n",
       "│ 15.0 ┆ 8         ┆ 350.0       ┆ 165        ┆ … ┆ 11.5        ┆ 70         ┆ 1      ┆ buick      │\n",
       "│      ┆           ┆             ┆            ┆   ┆             ┆            ┆        ┆ skylark    │\n",
       "│      ┆           ┆             ┆            ┆   ┆             ┆            ┆        ┆ 320        │\n",
       "│ 18.0 ┆ 8         ┆ 318.0       ┆ 150        ┆ … ┆ 11.0        ┆ 70         ┆ 1      ┆ plymouth   │\n",
       "│      ┆           ┆             ┆            ┆   ┆             ┆            ┆        ┆ satellite  │\n",
       "│ 16.0 ┆ 8         ┆ 304.0       ┆ 150        ┆ … ┆ 12.0        ┆ 70         ┆ 1      ┆ amc rebel  │\n",
       "│      ┆           ┆             ┆            ┆   ┆             ┆            ┆        ┆ sst        │\n",
       "│ 17.0 ┆ 8         ┆ 302.0       ┆ 140        ┆ … ┆ 10.5        ┆ 70         ┆ 1      ┆ ford       │\n",
       "│      ┆           ┆             ┆            ┆   ┆             ┆            ┆        ┆ torino     │\n",
       "└──────┴───────────┴─────────────┴────────────┴───┴─────────────┴────────────┴────────┴────────────┘"
      ]
     },
     "execution_count": 46,
     "metadata": {},
     "output_type": "execute_result"
    }
   ],
   "source": [
    "mpg.head()"
   ]
  },
  {
   "cell_type": "code",
   "execution_count": 47,
   "metadata": {},
   "outputs": [
    {
     "data": {
      "text/html": [
       "<div><style>\n",
       ".dataframe > thead > tr,\n",
       ".dataframe > tbody > tr {\n",
       "  text-align: right;\n",
       "  white-space: pre-wrap;\n",
       "}\n",
       "</style>\n",
       "<small>shape: (5, 9)</small><table border=\"1\" class=\"dataframe\"><thead><tr><th>mpg</th><th>cylinders</th><th>displacement</th><th>horsepower</th><th>weight</th><th>acceleration</th><th>model year</th><th>origin</th><th>car name</th></tr><tr><td>f32</td><td>u16</td><td>f32</td><td>u16</td><td>u16</td><td>f32</td><td>u16</td><td>u16</td><td>str</td></tr></thead><tbody><tr><td>18.0</td><td>8</td><td>307.0</td><td>130</td><td>3504</td><td>12.0</td><td>70</td><td>1</td><td>&quot;chevrolet chevelle malibu&quot;</td></tr><tr><td>15.0</td><td>8</td><td>350.0</td><td>165</td><td>3693</td><td>11.5</td><td>70</td><td>1</td><td>&quot;buick skylark 320&quot;</td></tr><tr><td>18.0</td><td>8</td><td>318.0</td><td>150</td><td>3436</td><td>11.0</td><td>70</td><td>1</td><td>&quot;plymouth satellite&quot;</td></tr><tr><td>16.0</td><td>8</td><td>304.0</td><td>150</td><td>3433</td><td>12.0</td><td>70</td><td>1</td><td>&quot;amc rebel sst&quot;</td></tr><tr><td>17.0</td><td>8</td><td>302.0</td><td>140</td><td>3449</td><td>10.5</td><td>70</td><td>1</td><td>&quot;ford torino&quot;</td></tr></tbody></table></div>"
      ],
      "text/plain": [
       "shape: (5, 9)\n",
       "┌──────┬───────────┬─────────────┬────────────┬───┬─────────────┬────────────┬────────┬────────────┐\n",
       "│ mpg  ┆ cylinders ┆ displacemen ┆ horsepower ┆ … ┆ acceleratio ┆ model year ┆ origin ┆ car name   │\n",
       "│ ---  ┆ ---       ┆ t           ┆ ---        ┆   ┆ n           ┆ ---        ┆ ---    ┆ ---        │\n",
       "│ f32  ┆ u16       ┆ ---         ┆ u16        ┆   ┆ ---         ┆ u16        ┆ u16    ┆ str        │\n",
       "│      ┆           ┆ f32         ┆            ┆   ┆ f32         ┆            ┆        ┆            │\n",
       "╞══════╪═══════════╪═════════════╪════════════╪═══╪═════════════╪════════════╪════════╪════════════╡\n",
       "│ 18.0 ┆ 8         ┆ 307.0       ┆ 130        ┆ … ┆ 12.0        ┆ 70         ┆ 1      ┆ chevrolet  │\n",
       "│      ┆           ┆             ┆            ┆   ┆             ┆            ┆        ┆ chevelle   │\n",
       "│      ┆           ┆             ┆            ┆   ┆             ┆            ┆        ┆ malibu     │\n",
       "│ 15.0 ┆ 8         ┆ 350.0       ┆ 165        ┆ … ┆ 11.5        ┆ 70         ┆ 1      ┆ buick      │\n",
       "│      ┆           ┆             ┆            ┆   ┆             ┆            ┆        ┆ skylark    │\n",
       "│      ┆           ┆             ┆            ┆   ┆             ┆            ┆        ┆ 320        │\n",
       "│ 18.0 ┆ 8         ┆ 318.0       ┆ 150        ┆ … ┆ 11.0        ┆ 70         ┆ 1      ┆ plymouth   │\n",
       "│      ┆           ┆             ┆            ┆   ┆             ┆            ┆        ┆ satellite  │\n",
       "│ 16.0 ┆ 8         ┆ 304.0       ┆ 150        ┆ … ┆ 12.0        ┆ 70         ┆ 1      ┆ amc rebel  │\n",
       "│      ┆           ┆             ┆            ┆   ┆             ┆            ┆        ┆ sst        │\n",
       "│ 17.0 ┆ 8         ┆ 302.0       ┆ 140        ┆ … ┆ 10.5        ┆ 70         ┆ 1      ┆ ford       │\n",
       "│      ┆           ┆             ┆            ┆   ┆             ┆            ┆        ┆ torino     │\n",
       "└──────┴───────────┴─────────────┴────────────┴───┴─────────────┴────────────┴────────┴────────────┘"
      ]
     },
     "execution_count": 47,
     "metadata": {},
     "output_type": "execute_result"
    }
   ],
   "source": [
    "mpg = mpg.with_columns(\n",
    "    pl.col(\"horsepower\").cast(pl.UInt16,strict=False),\n",
    "    pl.col(pl.Float64).cast(pl.Float32),\n",
    "    pl.col(pl.Int64).cast(pl.UInt16)\n",
    "    )\n",
    "mpg.head()"
   ]
  },
  {
   "cell_type": "code",
   "execution_count": 48,
   "metadata": {},
   "outputs": [
    {
     "name": "stdout",
     "output_type": "stream",
     "text": [
      "For mpg dataset maximum compression is achieved by:\n",
      "\tParquet\n",
      "Processed:83.90%\n",
      "Parquet:54.10%\n",
      "Feather:56.93%\n",
      "\n"
     ]
    }
   ],
   "source": [
    "save_dataframe(mpg, 'mpg')"
   ]
  },
  {
   "cell_type": "markdown",
   "metadata": {},
   "source": [
    "### titanic"
   ]
  },
  {
   "cell_type": "code",
   "execution_count": 49,
   "metadata": {},
   "outputs": [
    {
     "data": {
      "text/html": [
       "<div><style>\n",
       ".dataframe > thead > tr,\n",
       ".dataframe > tbody > tr {\n",
       "  text-align: right;\n",
       "  white-space: pre-wrap;\n",
       "}\n",
       "</style>\n",
       "<small>shape: (5, 12)</small><table border=\"1\" class=\"dataframe\"><thead><tr><th>PassengerId</th><th>Survived</th><th>Pclass</th><th>Name</th><th>Sex</th><th>Age</th><th>SibSp</th><th>Parch</th><th>Ticket</th><th>Fare</th><th>Cabin</th><th>Embarked</th></tr><tr><td>u16</td><td>u16</td><td>u16</td><td>str</td><td>str</td><td>f32</td><td>u16</td><td>u16</td><td>str</td><td>f32</td><td>str</td><td>str</td></tr></thead><tbody><tr><td>1</td><td>0</td><td>3</td><td>&quot;Braund, Mr. Owen Harris&quot;</td><td>&quot;male&quot;</td><td>22.0</td><td>1</td><td>0</td><td>&quot;A/5 21171&quot;</td><td>7.25</td><td>null</td><td>&quot;S&quot;</td></tr><tr><td>2</td><td>1</td><td>1</td><td>&quot;Cumings, Mrs. John Bradley (Fl…</td><td>&quot;female&quot;</td><td>38.0</td><td>1</td><td>0</td><td>&quot;PC 17599&quot;</td><td>71.283302</td><td>&quot;C85&quot;</td><td>&quot;C&quot;</td></tr><tr><td>3</td><td>1</td><td>3</td><td>&quot;Heikkinen, Miss. Laina&quot;</td><td>&quot;female&quot;</td><td>26.0</td><td>0</td><td>0</td><td>&quot;STON/O2. 3101282&quot;</td><td>7.925</td><td>null</td><td>&quot;S&quot;</td></tr><tr><td>4</td><td>1</td><td>1</td><td>&quot;Futrelle, Mrs. Jacques Heath (…</td><td>&quot;female&quot;</td><td>35.0</td><td>1</td><td>0</td><td>&quot;113803&quot;</td><td>53.099998</td><td>&quot;C123&quot;</td><td>&quot;S&quot;</td></tr><tr><td>5</td><td>0</td><td>3</td><td>&quot;Allen, Mr. William Henry&quot;</td><td>&quot;male&quot;</td><td>35.0</td><td>0</td><td>0</td><td>&quot;373450&quot;</td><td>8.05</td><td>null</td><td>&quot;S&quot;</td></tr></tbody></table></div>"
      ],
      "text/plain": [
       "shape: (5, 12)\n",
       "┌─────────────┬──────────┬────────┬─────────────────┬───┬───────────┬───────────┬───────┬──────────┐\n",
       "│ PassengerId ┆ Survived ┆ Pclass ┆ Name            ┆ … ┆ Ticket    ┆ Fare      ┆ Cabin ┆ Embarked │\n",
       "│ ---         ┆ ---      ┆ ---    ┆ ---             ┆   ┆ ---       ┆ ---       ┆ ---   ┆ ---      │\n",
       "│ u16         ┆ u16      ┆ u16    ┆ str             ┆   ┆ str       ┆ f32       ┆ str   ┆ str      │\n",
       "╞═════════════╪══════════╪════════╪═════════════════╪═══╪═══════════╪═══════════╪═══════╪══════════╡\n",
       "│ 1           ┆ 0        ┆ 3      ┆ Braund, Mr.     ┆ … ┆ A/5 21171 ┆ 7.25      ┆ null  ┆ S        │\n",
       "│             ┆          ┆        ┆ Owen Harris     ┆   ┆           ┆           ┆       ┆          │\n",
       "│ 2           ┆ 1        ┆ 1      ┆ Cumings, Mrs.   ┆ … ┆ PC 17599  ┆ 71.283302 ┆ C85   ┆ C        │\n",
       "│             ┆          ┆        ┆ John Bradley    ┆   ┆           ┆           ┆       ┆          │\n",
       "│             ┆          ┆        ┆ (Fl…            ┆   ┆           ┆           ┆       ┆          │\n",
       "│ 3           ┆ 1        ┆ 3      ┆ Heikkinen,      ┆ … ┆ STON/O2.  ┆ 7.925     ┆ null  ┆ S        │\n",
       "│             ┆          ┆        ┆ Miss. Laina     ┆   ┆ 3101282   ┆           ┆       ┆          │\n",
       "│ 4           ┆ 1        ┆ 1      ┆ Futrelle, Mrs.  ┆ … ┆ 113803    ┆ 53.099998 ┆ C123  ┆ S        │\n",
       "│             ┆          ┆        ┆ Jacques Heath   ┆   ┆           ┆           ┆       ┆          │\n",
       "│             ┆          ┆        ┆ (…              ┆   ┆           ┆           ┆       ┆          │\n",
       "│ 5           ┆ 0        ┆ 3      ┆ Allen, Mr.      ┆ … ┆ 373450    ┆ 8.05      ┆ null  ┆ S        │\n",
       "│             ┆          ┆        ┆ William Henry   ┆   ┆           ┆           ┆       ┆          │\n",
       "└─────────────┴──────────┴────────┴─────────────────┴───┴───────────┴───────────┴───────┴──────────┘"
      ]
     },
     "execution_count": 49,
     "metadata": {},
     "output_type": "execute_result"
    }
   ],
   "source": [
    "titanic = titanic.with_columns(pl.col(pl.Int64).cast(pl.UInt16),\n",
    "                               pl.col(pl.Float64).cast(pl.Float32)\n",
    "                               )\n",
    "titanic.head()"
   ]
  },
  {
   "cell_type": "code",
   "execution_count": 50,
   "metadata": {},
   "outputs": [
    {
     "name": "stdout",
     "output_type": "stream",
     "text": [
      "For titanic dataset maximum compression is achieved by:\n",
      "\tParquet\n",
      "Processed:84.98%\n",
      "Parquet:42.81%\n",
      "Feather:53.75%\n",
      "\n"
     ]
    }
   ],
   "source": [
    "save_dataframe(titanic, 'titanic')"
   ]
  },
  {
   "cell_type": "markdown",
   "metadata": {},
   "source": [
    "### netflix"
   ]
  },
  {
   "cell_type": "code",
   "execution_count": 51,
   "metadata": {},
   "outputs": [
    {
     "data": {
      "text/html": [
       "<div><style>\n",
       ".dataframe > thead > tr,\n",
       ".dataframe > tbody > tr {\n",
       "  text-align: right;\n",
       "  white-space: pre-wrap;\n",
       "}\n",
       "</style>\n",
       "<small>shape: (5, 12)</small><table border=\"1\" class=\"dataframe\"><thead><tr><th>show_id</th><th>type</th><th>title</th><th>director</th><th>cast</th><th>country</th><th>date_added</th><th>release_year</th><th>rating</th><th>duration</th><th>listed_in</th><th>description</th></tr><tr><td>str</td><td>str</td><td>str</td><td>str</td><td>str</td><td>str</td><td>str</td><td>i64</td><td>str</td><td>str</td><td>str</td><td>str</td></tr></thead><tbody><tr><td>&quot;s1&quot;</td><td>&quot;Movie&quot;</td><td>&quot;Dick Johnson Is Dead&quot;</td><td>&quot;Kirsten Johnson&quot;</td><td>null</td><td>&quot;United States&quot;</td><td>&quot;September 25, 2021&quot;</td><td>2020</td><td>&quot;PG-13&quot;</td><td>&quot;90 min&quot;</td><td>&quot;Documentaries&quot;</td><td>&quot;As her father nears the end of…</td></tr><tr><td>&quot;s2&quot;</td><td>&quot;TV Show&quot;</td><td>&quot;Blood &amp; Water&quot;</td><td>null</td><td>&quot;Ama Qamata, Khosi Ngema, Gail …</td><td>&quot;South Africa&quot;</td><td>&quot;September 24, 2021&quot;</td><td>2021</td><td>&quot;TV-MA&quot;</td><td>&quot;2 Seasons&quot;</td><td>&quot;International TV Shows, TV Dra…</td><td>&quot;After crossing paths at a part…</td></tr><tr><td>&quot;s3&quot;</td><td>&quot;TV Show&quot;</td><td>&quot;Ganglands&quot;</td><td>&quot;Julien Leclercq&quot;</td><td>&quot;Sami Bouajila, Tracy Gotoas, S…</td><td>null</td><td>&quot;September 24, 2021&quot;</td><td>2021</td><td>&quot;TV-MA&quot;</td><td>&quot;1 Season&quot;</td><td>&quot;Crime TV Shows, International …</td><td>&quot;To protect his family from a p…</td></tr><tr><td>&quot;s4&quot;</td><td>&quot;TV Show&quot;</td><td>&quot;Jailbirds New Orleans&quot;</td><td>null</td><td>null</td><td>null</td><td>&quot;September 24, 2021&quot;</td><td>2021</td><td>&quot;TV-MA&quot;</td><td>&quot;1 Season&quot;</td><td>&quot;Docuseries, Reality TV&quot;</td><td>&quot;Feuds, flirtations and toilet …</td></tr><tr><td>&quot;s5&quot;</td><td>&quot;TV Show&quot;</td><td>&quot;Kota Factory&quot;</td><td>null</td><td>&quot;Mayur More, Jitendra Kumar, Ra…</td><td>&quot;India&quot;</td><td>&quot;September 24, 2021&quot;</td><td>2021</td><td>&quot;TV-MA&quot;</td><td>&quot;2 Seasons&quot;</td><td>&quot;International TV Shows, Romant…</td><td>&quot;In a city of coaching centers …</td></tr></tbody></table></div>"
      ],
      "text/plain": [
       "shape: (5, 12)\n",
       "┌─────────┬─────────┬─────────────┬─────────────┬───┬────────┬───────────┬────────────┬────────────┐\n",
       "│ show_id ┆ type    ┆ title       ┆ director    ┆ … ┆ rating ┆ duration  ┆ listed_in  ┆ descriptio │\n",
       "│ ---     ┆ ---     ┆ ---         ┆ ---         ┆   ┆ ---    ┆ ---       ┆ ---        ┆ n          │\n",
       "│ str     ┆ str     ┆ str         ┆ str         ┆   ┆ str    ┆ str       ┆ str        ┆ ---        │\n",
       "│         ┆         ┆             ┆             ┆   ┆        ┆           ┆            ┆ str        │\n",
       "╞═════════╪═════════╪═════════════╪═════════════╪═══╪════════╪═══════════╪════════════╪════════════╡\n",
       "│ s1      ┆ Movie   ┆ Dick        ┆ Kirsten     ┆ … ┆ PG-13  ┆ 90 min    ┆ Documentar ┆ As her     │\n",
       "│         ┆         ┆ Johnson Is  ┆ Johnson     ┆   ┆        ┆           ┆ ies        ┆ father     │\n",
       "│         ┆         ┆ Dead        ┆             ┆   ┆        ┆           ┆            ┆ nears the  │\n",
       "│         ┆         ┆             ┆             ┆   ┆        ┆           ┆            ┆ end of…    │\n",
       "│ s2      ┆ TV Show ┆ Blood &     ┆ null        ┆ … ┆ TV-MA  ┆ 2 Seasons ┆ Internatio ┆ After      │\n",
       "│         ┆         ┆ Water       ┆             ┆   ┆        ┆           ┆ nal TV     ┆ crossing   │\n",
       "│         ┆         ┆             ┆             ┆   ┆        ┆           ┆ Shows, TV  ┆ paths at a │\n",
       "│         ┆         ┆             ┆             ┆   ┆        ┆           ┆ Dra…       ┆ part…      │\n",
       "│ s3      ┆ TV Show ┆ Ganglands   ┆ Julien      ┆ … ┆ TV-MA  ┆ 1 Season  ┆ Crime TV   ┆ To protect │\n",
       "│         ┆         ┆             ┆ Leclercq    ┆   ┆        ┆           ┆ Shows, Int ┆ his family │\n",
       "│         ┆         ┆             ┆             ┆   ┆        ┆           ┆ ernational ┆ from a p…  │\n",
       "│         ┆         ┆             ┆             ┆   ┆        ┆           ┆ …          ┆            │\n",
       "│ s4      ┆ TV Show ┆ Jailbirds   ┆ null        ┆ … ┆ TV-MA  ┆ 1 Season  ┆ Docuseries ┆ Feuds, fli │\n",
       "│         ┆         ┆ New Orleans ┆             ┆   ┆        ┆           ┆ , Reality  ┆ rtations   │\n",
       "│         ┆         ┆             ┆             ┆   ┆        ┆           ┆ TV         ┆ and toilet │\n",
       "│         ┆         ┆             ┆             ┆   ┆        ┆           ┆            ┆ …          │\n",
       "│ s5      ┆ TV Show ┆ Kota        ┆ null        ┆ … ┆ TV-MA  ┆ 2 Seasons ┆ Internatio ┆ In a city  │\n",
       "│         ┆         ┆ Factory     ┆             ┆   ┆        ┆           ┆ nal TV     ┆ of         │\n",
       "│         ┆         ┆             ┆             ┆   ┆        ┆           ┆ Shows,     ┆ coaching   │\n",
       "│         ┆         ┆             ┆             ┆   ┆        ┆           ┆ Romant…    ┆ centers …  │\n",
       "└─────────┴─────────┴─────────────┴─────────────┴───┴────────┴───────────┴────────────┴────────────┘"
      ]
     },
     "execution_count": 51,
     "metadata": {},
     "output_type": "execute_result"
    }
   ],
   "source": [
    "netflix.head()"
   ]
  },
  {
   "cell_type": "code",
   "execution_count": 52,
   "metadata": {},
   "outputs": [],
   "source": [
    "netflix = netflix.with_columns(pl.col(pl.Int64).cast(pl.UInt16))"
   ]
  },
  {
   "cell_type": "code",
   "execution_count": 53,
   "metadata": {},
   "outputs": [
    {
     "name": "stdout",
     "output_type": "stream",
     "text": [
      "For netflix dataset maximum compression is achieved by:\n",
      "\tParquet\n",
      "Processed:94.51%\n",
      "Parquet:32.96%\n",
      "Feather:44.42%\n",
      "\n"
     ]
    }
   ],
   "source": [
    "save_dataframe(netflix, 'netflix')"
   ]
  },
  {
   "cell_type": "markdown",
   "metadata": {},
   "source": [
    "### Finalizing"
   ]
  },
  {
   "cell_type": "code",
   "execution_count": 54,
   "metadata": {},
   "outputs": [],
   "source": [
    "sizes_df = pl.DataFrame(size_dict)"
   ]
  },
  {
   "cell_type": "code",
   "execution_count": 55,
   "metadata": {},
   "outputs": [],
   "source": [
    "df = datasets_df.join(sizes_df, on='name')"
   ]
  },
  {
   "cell_type": "code",
   "execution_count": 56,
   "metadata": {},
   "outputs": [
    {
     "data": {
      "text/html": [
       "<div><style>\n",
       ".dataframe > thead > tr,\n",
       ".dataframe > tbody > tr {\n",
       "  text-align: right;\n",
       "  white-space: pre-wrap;\n",
       "}\n",
       "</style>\n",
       "<small>shape: (5, 9)</small><table border=\"1\" class=\"dataframe\"><thead><tr><th>name</th><th>source</th><th>license</th><th>origin</th><th>size_csv</th><th>size_initial</th><th>size_after_processing</th><th>size_parquet_zstd</th><th>size_feather_zstd</th></tr><tr><td>str</td><td>str</td><td>str</td><td>str</td><td>i64</td><td>i64</td><td>i64</td><td>i64</td><td>i64</td></tr></thead><tbody><tr><td>&quot;iris&quot;</td><td>&quot;https://www.kaggle.com/dataset…</td><td>&quot;CC0: Public Domain&quot;</td><td>&quot;Kaggle&quot;</td><td>3858</td><td>6050</td><td>3650</td><td>2824</td><td>2543</td></tr><tr><td>&quot;mpg&quot;</td><td>&quot;https://www.kaggle.com/dataset…</td><td>&quot;CC0: Public Domain&quot;</td><td>&quot;Kaggle&quot;</td><td>18131</td><td>29651</td><td>15212</td><td>9809</td><td>10322</td></tr><tr><td>&quot;titanic&quot;</td><td>&quot;https://www.kaggle.com/competi…</td><td>null</td><td>&quot;Kaggle&quot;</td><td>61194</td><td>85862</td><td>52004</td><td>26200</td><td>32894</td></tr><tr><td>&quot;starbucks&quot;</td><td>&quot;https://www.kaggle.com/dataset…</td><td>&quot;CC0: Public Domain&quot;</td><td>&quot;Kaggle&quot;</td><td>26898</td><td>35697</td><td>25533</td><td>11343</td><td>11100</td></tr><tr><td>&quot;netflix&quot;</td><td>&quot;https://www.kaggle.com/dataset…</td><td>&quot;CC0: Public Domain&quot;</td><td>&quot;Kaggle&quot;</td><td>3399671</td><td>3265729</td><td>3212887</td><td>1120411</td><td>1510030</td></tr></tbody></table></div>"
      ],
      "text/plain": [
       "shape: (5, 9)\n",
       "┌───────────┬────────────┬────────────┬────────┬───┬───────────┬───────────┬───────────┬───────────┐\n",
       "│ name      ┆ source     ┆ license    ┆ origin ┆ … ┆ size_init ┆ size_afte ┆ size_parq ┆ size_feat │\n",
       "│ ---       ┆ ---        ┆ ---        ┆ ---    ┆   ┆ ial       ┆ r_process ┆ uet_zstd  ┆ her_zstd  │\n",
       "│ str       ┆ str        ┆ str        ┆ str    ┆   ┆ ---       ┆ ing       ┆ ---       ┆ ---       │\n",
       "│           ┆            ┆            ┆        ┆   ┆ i64       ┆ ---       ┆ i64       ┆ i64       │\n",
       "│           ┆            ┆            ┆        ┆   ┆           ┆ i64       ┆           ┆           │\n",
       "╞═══════════╪════════════╪════════════╪════════╪═══╪═══════════╪═══════════╪═══════════╪═══════════╡\n",
       "│ iris      ┆ https://ww ┆ CC0:       ┆ Kaggle ┆ … ┆ 6050      ┆ 3650      ┆ 2824      ┆ 2543      │\n",
       "│           ┆ w.kaggle.c ┆ Public     ┆        ┆   ┆           ┆           ┆           ┆           │\n",
       "│           ┆ om/dataset ┆ Domain     ┆        ┆   ┆           ┆           ┆           ┆           │\n",
       "│           ┆ …          ┆            ┆        ┆   ┆           ┆           ┆           ┆           │\n",
       "│ mpg       ┆ https://ww ┆ CC0:       ┆ Kaggle ┆ … ┆ 29651     ┆ 15212     ┆ 9809      ┆ 10322     │\n",
       "│           ┆ w.kaggle.c ┆ Public     ┆        ┆   ┆           ┆           ┆           ┆           │\n",
       "│           ┆ om/dataset ┆ Domain     ┆        ┆   ┆           ┆           ┆           ┆           │\n",
       "│           ┆ …          ┆            ┆        ┆   ┆           ┆           ┆           ┆           │\n",
       "│ titanic   ┆ https://ww ┆ null       ┆ Kaggle ┆ … ┆ 85862     ┆ 52004     ┆ 26200     ┆ 32894     │\n",
       "│           ┆ w.kaggle.c ┆            ┆        ┆   ┆           ┆           ┆           ┆           │\n",
       "│           ┆ om/competi ┆            ┆        ┆   ┆           ┆           ┆           ┆           │\n",
       "│           ┆ …          ┆            ┆        ┆   ┆           ┆           ┆           ┆           │\n",
       "│ starbucks ┆ https://ww ┆ CC0:       ┆ Kaggle ┆ … ┆ 35697     ┆ 25533     ┆ 11343     ┆ 11100     │\n",
       "│           ┆ w.kaggle.c ┆ Public     ┆        ┆   ┆           ┆           ┆           ┆           │\n",
       "│           ┆ om/dataset ┆ Domain     ┆        ┆   ┆           ┆           ┆           ┆           │\n",
       "│           ┆ …          ┆            ┆        ┆   ┆           ┆           ┆           ┆           │\n",
       "│ netflix   ┆ https://ww ┆ CC0:       ┆ Kaggle ┆ … ┆ 3265729   ┆ 3212887   ┆ 1120411   ┆ 1510030   │\n",
       "│           ┆ w.kaggle.c ┆ Public     ┆        ┆   ┆           ┆           ┆           ┆           │\n",
       "│           ┆ om/dataset ┆ Domain     ┆        ┆   ┆           ┆           ┆           ┆           │\n",
       "│           ┆ …          ┆            ┆        ┆   ┆           ┆           ┆           ┆           │\n",
       "└───────────┴────────────┴────────────┴────────┴───┴───────────┴───────────┴───────────┴───────────┘"
      ]
     },
     "execution_count": 56,
     "metadata": {},
     "output_type": "execute_result"
    }
   ],
   "source": [
    "df.head()"
   ]
  },
  {
   "cell_type": "code",
   "execution_count": 57,
   "metadata": {},
   "outputs": [],
   "source": [
    "df = df.with_columns((pl.col('size_parquet_zstd')/pl.col('size_csv')).alias('parquet_size_rate'),\n",
    "                     (pl.col('size_feather_zstd')/pl.col('size_csv')).alias('feather_size_rate'))"
   ]
  },
  {
   "cell_type": "code",
   "execution_count": 58,
   "metadata": {},
   "outputs": [],
   "source": [
    "df.write_csv('datasets_info.csv')"
   ]
  }
 ],
 "metadata": {
  "kernelspec": {
   "display_name": ".venv",
   "language": "python",
   "name": "python3"
  },
  "language_info": {
   "codemirror_mode": {
    "name": "ipython",
    "version": 3
   },
   "file_extension": ".py",
   "mimetype": "text/x-python",
   "name": "python",
   "nbconvert_exporter": "python",
   "pygments_lexer": "ipython3",
   "version": "3.11.9"
  }
 },
 "nbformat": 4,
 "nbformat_minor": 2
}
